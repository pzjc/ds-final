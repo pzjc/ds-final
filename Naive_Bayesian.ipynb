{
 "cells": [
  {
   "cell_type": "code",
   "execution_count": 8,
   "metadata": {
    "collapsed": false
   },
   "outputs": [],
   "source": [
    "import TrainingSetsUtil as tsutil\n",
    "import numpy as np"
   ]
  },
  {
   "cell_type": "markdown",
   "metadata": {},
   "source": [
    "# Loading ham/spam dictionary"
   ]
  },
  {
   "cell_type": "code",
   "execution_count": 13,
   "metadata": {
    "collapsed": true
   },
   "outputs": [],
   "source": [
    "dataset = 'sms' #'ling' or 'SMS'\n",
    "trainingSection = 5\n",
    "\n",
    "trainDataDir = '../dataset/' + dataset + '/train'\n",
    "posTrain = trainDataDir + '/spam/' + str(trainingSection) + '/'\n",
    "negTrain = trainDataDir + '/ham/' + str(trainingSection) + '/'"
   ]
  },
  {
   "cell_type": "code",
   "execution_count": 14,
   "metadata": {
    "collapsed": false
   },
   "outputs": [
    {
     "name": "stdout",
     "output_type": "stream",
     "text": [
      "Loading training sets...\n",
      "done.\n"
     ]
    }
   ],
   "source": [
    "ham_training_set, spam_training_set = tsutil.init(negTrain, posTrain)"
   ]
  },
  {
   "cell_type": "markdown",
   "metadata": {},
   "source": [
    "# Classify"
   ]
  },
  {
   "cell_type": "code",
   "execution_count": 15,
   "metadata": {
    "collapsed": true
   },
   "outputs": [],
   "source": [
    "testDataDir = '../dataset/' + dataset + '/test'\n",
    "posTest = testDataDir + '/spam/' + str(trainingSection) + '/' + dataset + '_test.spam'\n",
    "negTest = testDataDir + '/ham/' + str(trainingSection) + '/' + dataset + '_test.ham'"
   ]
  },
  {
   "cell_type": "code",
   "execution_count": 16,
   "metadata": {
    "collapsed": true
   },
   "outputs": [],
   "source": [
    "def classify(message, training_set, prior = 0.5, c = 3.7e-4):\n",
    "    msg_terms = tsutil.get_words(message)\n",
    "    msg_probability = 1\n",
    "    \n",
    "    for term in msg_terms:        \n",
    "        if term in training_set:\n",
    "            msg_probability *= training_set[term]\n",
    "        else:\n",
    "            msg_probability *= c\n",
    "\n",
    "    return msg_probability * prior"
   ]
  },
  {
   "cell_type": "code",
   "execution_count": 17,
   "metadata": {
    "collapsed": true
   },
   "outputs": [],
   "source": [
    "def getTextLabel(posFilePath, negFilePath):\n",
    "    import fileinput\n",
    "    from string import punctuation\n",
    "\n",
    "    labels = []\n",
    "    texts = []\n",
    "    for line in fileinput.input(posFilePath):\n",
    "        line = line.lower()\n",
    "        line = ''.join([c for c in line if c not in punctuation])\n",
    "        if len(line) > 0:\n",
    "            texts.append(line)\n",
    "            labels.append(1)\n",
    "\n",
    "    for line in fileinput.input(negFilePath):\n",
    "        line = line.lower()\n",
    "        line = ''.join([c for c in line if c not in punctuation])\n",
    "        if len(line) > 0:\n",
    "            texts.append(line)\n",
    "            labels.append(0)\n",
    "    labels = np.array(labels)\n",
    "    \n",
    "    return texts, labels"
   ]
  },
  {
   "cell_type": "code",
   "execution_count": 18,
   "metadata": {
    "collapsed": true
   },
   "outputs": [],
   "source": [
    "random = 1e-3 # in case of error \"divide by zero\"\n",
    "def getMetrics(TP, FP, TN, FN):\n",
    "    accuracy = (TP + TN) * 1.0 / (TP + TN + FP + FN + random)\n",
    "    precision = TP * 1.0 / (TP + FP + random)\n",
    "    recall = TP * 1.0 / (TP + FN + random)\n",
    "    f1 = 2.0 * TP / (2 * TP + FP + FN + random)\n",
    "    print('accuracy : %.3f \\nprecision : %.3f \\nrecall : %.3f \\nf1 : %.3f \\n'%(accuracy, precision, recall, f1))"
   ]
  },
  {
   "cell_type": "code",
   "execution_count": 19,
   "metadata": {
    "collapsed": false
   },
   "outputs": [
    {
     "data": {
      "text/plain": [
       "2784"
      ]
     },
     "execution_count": 19,
     "metadata": {},
     "output_type": "execute_result"
    }
   ],
   "source": [
    "texts, labels = getTextLabel(posTest, negTest)\n",
    "len(texts)"
   ]
  },
  {
   "cell_type": "code",
   "execution_count": 20,
   "metadata": {
    "collapsed": false
   },
   "outputs": [
    {
     "name": "stdout",
     "output_type": "stream",
     "text": [
      "356 137 2275 16\n",
      "accuracy : 0.945 \n",
      "precision : 0.722 \n",
      "recall : 0.957 \n",
      "f1 : 0.823 \n",
      "\n"
     ]
    }
   ],
   "source": [
    "TP, FP, TN, FN = 0, 0, 0, 0\n",
    "for i in range(len(texts)):\n",
    "    curText = texts[i]\n",
    "    curLabel = labels[i]\n",
    "    prediction = 0\n",
    "    \n",
    "#     print(curText, curLabel)\n",
    "    spam_probability = classify(curText, spam_training_set, 0.2)\n",
    "    ham_probability = classify(curText, ham_training_set, 0.8)\n",
    "    if spam_probability > ham_probability:\n",
    "        prediction = 1\n",
    "        \n",
    "    if prediction == 0 and curLabel == 0:\n",
    "        TN += 1\n",
    "    elif prediction == 0 and curLabel == 1:\n",
    "        FN += 1\n",
    "    elif prediction == 1 and curLabel == 1:\n",
    "        TP += 1\n",
    "    elif prediction == 1 and curLabel == 0:\n",
    "        FP += 1\n",
    "        \n",
    "print(TP, FP, TN, FN)   \n",
    "getMetrics(TP, FP, TN, FN)"
   ]
  }
 ],
 "metadata": {
  "kernelspec": {
   "display_name": "Python 3",
   "language": "python",
   "name": "python3"
  },
  "language_info": {
   "codemirror_mode": {
    "name": "ipython",
    "version": 3
   },
   "file_extension": ".py",
   "mimetype": "text/x-python",
   "name": "python",
   "nbconvert_exporter": "python",
   "pygments_lexer": "ipython3",
   "version": "3.6.0"
  }
 },
 "nbformat": 4,
 "nbformat_minor": 2
}
